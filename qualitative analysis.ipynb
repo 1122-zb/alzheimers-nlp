{
 "cells": [
  {
   "cell_type": "code",
   "execution_count": 19,
   "metadata": {},
   "outputs": [],
   "source": [
    "from sklearn.feature_extraction.text import TfidfVectorizer\n",
    "from sklearn.linear_model import LogisticRegression\n",
    "import pandas as pd\n",
    "\n",
    "# 读取测试集数据\n",
    "test_df = pd.read_csv(\"/Users/zhengfeibian/Desktop/5630final/MyOwnChooseDataSets/Datasets_SYSEN5630FinalProject_Zhengfei/Symptom_Forgetfulness_Datasets/symptom_test.csv\")\n",
    "X_test = test_df[\"Abstract\"]\n",
    "y_test = test_df[\"MentionsSymptom\"]\n",
    "\n",
    "# TF-IDF向量化\n",
    "vectorizer = TfidfVectorizer(max_features=5000)\n",
    "X_test_vec = vectorizer.fit_transform(X_test)\n",
    "\n",
    "# 加载Logistic回归模型\n",
    "clf = LogisticRegression(max_iter=200)\n",
    "clf.fit(X_test_vec, y_test)\n",
    "\n",
    "# 生成预测结果\n",
    "y_pred_logistic = clf.predict(X_test_vec)\n",
    "\n",
    "# 保存预测结果为CSV\n",
    "logistic_pred_df = pd.DataFrame({\"Abstract\": X_test, \"Prediction\": y_pred_logistic})\n",
    "logistic_pred_df.to_csv(\"/Users/zhengfeibian/Desktop/5630final/MyOwnChooseDataSets/Datasets_SYSEN5630FinalProject_Zhengfei/logistic_predictions.csv\", index=False, encoding='utf-8')"
   ]
  },
  {
   "cell_type": "code",
   "execution_count": 21,
   "metadata": {},
   "outputs": [
    {
     "name": "stderr",
     "output_type": "stream",
     "text": [
      "Some weights of DistilBertForSequenceClassification were not initialized from the model checkpoint at distilbert-base-uncased and are newly initialized: ['classifier.bias', 'classifier.weight', 'pre_classifier.bias', 'pre_classifier.weight']\n",
      "You should probably TRAIN this model on a down-stream task to be able to use it for predictions and inference.\n",
      "Map: 100%|██████████| 1442/1442 [00:00<00:00, 2663.50 examples/s]\n"
     ]
    },
    {
     "data": {
      "text/html": [],
      "text/plain": [
       "<IPython.core.display.HTML object>"
      ]
     },
     "metadata": {},
     "output_type": "display_data"
    }
   ],
   "source": [
    "from transformers import DistilBertTokenizerFast, AutoModelForSequenceClassification, Trainer, TrainingArguments\n",
    "from datasets import Dataset\n",
    "import numpy as np\n",
    "import pandas as pd\n",
    "\n",
    "# 读取测试集数据\n",
    "df_test = pd.read_csv(\"/Users/zhengfeibian/Desktop/5630final/MyOwnChooseDataSets/Datasets_SYSEN5630FinalProject_Zhengfei/Symptom_Forgetfulness_Datasets/symptom_test.csv\")\n",
    "\n",
    "# 加载DistilBERT模型和Tokenizer\n",
    "tokenizer = DistilBertTokenizerFast.from_pretrained(\"distilbert-base-uncased\")\n",
    "model = AutoModelForSequenceClassification.from_pretrained(\"distilbert-base-uncased\", num_labels=2)\n",
    "\n",
    "# 预处理测试集数据\n",
    "test_dataset = Dataset.from_pandas(df_test[[\"Abstract\", \"MentionsSymptom\"]].rename(columns={\"Abstract\": \"text\", \"MentionsSymptom\": \"label\"}))\n",
    "test_dataset = test_dataset.map(lambda x: tokenizer(x[\"text\"], truncation=True, padding=\"max_length\"), batched=True)\n",
    "\n",
    "# 更改输出路径为桌面\n",
    "output_dir = \"/Users/zhengfeibian/Desktop/5630final/MyOwnChooseDataSets/Datasets_SYSEN5630FinalProject_Zhengfei/\"  # 修改路径\n",
    "\n",
    "# 检查输出路径是否存在，不存在则创建\n",
    "import os\n",
    "if not os.path.exists(output_dir):\n",
    "    os.makedirs(output_dir)\n",
    "    print(f\"创建输出目录：{output_dir}\")\n",
    "\n",
    "# 设置训练参数\n",
    "training_args = TrainingArguments(\n",
    "    output_dir=output_dir,  # 使用绝对路径，避免相对路径权限问题\n",
    "    per_device_eval_batch_size=16,\n",
    ")\n",
    "\n",
    "# 创建Trainer对象\n",
    "trainer = Trainer(\n",
    "    model=model,\n",
    "    args=training_args,\n",
    ")\n",
    "\n",
    "# 生成预测结果\n",
    "predictions = trainer.predict(test_dataset)\n",
    "y_pred_distilbert = np.argmax(predictions.predictions, axis=1)\n",
    "\n",
    "# 保存预测结果为CSV\n",
    "distilbert_pred_df = pd.DataFrame({\"Abstract\": df_test[\"Abstract\"], \"Prediction\": y_pred_distilbert})\n",
    "distilbert_pred_df.to_csv(\"/Users/zhengfeibian/Desktop/5630final/MyOwnChooseDataSets/Datasets_SYSEN5630FinalProject_Zhengfei/distilbert_predictions.csv\", index=False, encoding='utf-8')"
   ]
  },
  {
   "cell_type": "code",
   "execution_count": 22,
   "metadata": {},
   "outputs": [
    {
     "name": "stdout",
     "output_type": "stream",
     "text": [
      "Sample from the test dataset:\n",
      "       PMID                                           Abstract  \\\n",
      "0  39956389  Aging is a major risk factor for neurodegenera...   \n",
      "1  40276322  Alzheimer's disease (AD) clinical trials with ...   \n",
      "2  39858593  A notion of the continuous production of amylo...   \n",
      "3  39751865  The complex set of interactions between the im...   \n",
      "4  39846482  The neuropathologies of Alzheimer's disease (A...   \n",
      "\n",
      "   MentionsSymptom  \n",
      "0                1  \n",
      "1                0  \n",
      "2                0  \n",
      "3                0  \n",
      "4                0  \n",
      "\n",
      "Sample from Logistic regression predictions:\n",
      "                                            Abstract  Prediction\n",
      "0  Aging is a major risk factor for neurodegenera...           0\n",
      "1  Alzheimer's disease (AD) clinical trials with ...           0\n",
      "2  A notion of the continuous production of amylo...           0\n",
      "3  The complex set of interactions between the im...           0\n",
      "4  The neuropathologies of Alzheimer's disease (A...           0\n",
      "\n",
      "Sample from DistilBERT predictions:\n",
      "                                            Abstract  Prediction\n",
      "0  Aging is a major risk factor for neurodegenera...           1\n",
      "1  Alzheimer's disease (AD) clinical trials with ...           1\n",
      "2  A notion of the continuous production of amylo...           1\n",
      "3  The complex set of interactions between the im...           1\n",
      "4  The neuropathologies of Alzheimer's disease (A...           0\n"
     ]
    }
   ],
   "source": [
    "import pandas as pd\n",
    "import numpy as np\n",
    "\n",
    "# 加载测试集数据和模型预测结果\n",
    "true_df = pd.read_csv(\"/Users/zhengfeibian/Desktop/5630final/MyOwnChooseDataSets/Datasets_SYSEN5630FinalProject_Zhengfei/Symptom_Forgetfulness_Datasets/symptom_test.csv\")   # 包含真实标签\n",
    "logistic_pred_df = pd.read_csv(\"/Users/zhengfeibian/Desktop/5630final/MyOwnChooseDataSets/Datasets_SYSEN5630FinalProject_Zhengfei/logistic_predictions.csv\")  # Logistic回归预测结果\n",
    "distilbert_pred_df = pd.read_csv(\"/Users/zhengfeibian/Desktop/5630final/MyOwnChooseDataSets/Datasets_SYSEN5630FinalProject_Zhengfei/distilbert_predictions.csv\")  # DistilBERT预测结果\n",
    "\n",
    "# Check if the data format is correct\n",
    "print(\"Sample from the test dataset:\")\n",
    "print(true_df.head())\n",
    "\n",
    "print(\"\\nSample from Logistic regression predictions:\")\n",
    "print(logistic_pred_df.head())\n",
    "\n",
    "print(\"\\nSample from DistilBERT predictions:\")\n",
    "print(distilbert_pred_df.head())\n",
    "\n",
    "# Extract texts, true labels, and predicted labels\n",
    "texts = true_df[\"Abstract\"]\n",
    "y_true = true_df[\"MentionsSymptom\"]\n",
    "y_pred_logistic = logistic_pred_df[\"Prediction\"]\n",
    "y_pred_distilbert = distilbert_pred_df[\"Prediction\"]\n"
   ]
  },
  {
   "cell_type": "code",
   "execution_count": 23,
   "metadata": {},
   "outputs": [
    {
     "name": "stdout",
     "output_type": "stream",
     "text": [
      "Number of success cases: 263\n",
      "Number of failure cases: 1179\n",
      "\n",
      "Success and failure cases have been saved to:\n",
      "1. success_cases.csv\n",
      "2. failure_cases.csv\n"
     ]
    }
   ],
   "source": [
    "# Load true labels and prediction labels\n",
    "true_df = pd.read_csv(\"/Users/zhengfeibian/Desktop/5630final/MyOwnChooseDataSets/Datasets_SYSEN5630FinalProject_Zhengfei/Symptom_Forgetfulness_Datasets/symptom_test.csv\")\n",
    "logistic_pred_df = pd.read_csv(\"/Users/zhengfeibian/Desktop/5630final/MyOwnChooseDataSets/Datasets_SYSEN5630FinalProject_Zhengfei/logistic_predictions.csv\")\n",
    "distilbert_pred_df = pd.read_csv(\"/Users/zhengfeibian/Desktop/5630final/MyOwnChooseDataSets/Datasets_SYSEN5630FinalProject_Zhengfei/distilbert_predictions.csv\")\n",
    "\n",
    "# Extract texts, true labels, and predicted labels\n",
    "texts = true_df[\"Abstract\"]\n",
    "y_true = true_df[\"MentionsSymptom\"]\n",
    "y_pred_logistic = logistic_pred_df[\"Prediction\"]\n",
    "y_pred_distilbert = distilbert_pred_df[\"Prediction\"]\n",
    "\n",
    "# Store success and failure cases\n",
    "success_cases = []\n",
    "failure_cases = []\n",
    "\n",
    "for i in range(len(y_true)):\n",
    "    text = texts[i]\n",
    "    true_label = y_true[i]\n",
    "    pred_log = y_pred_logistic[i]\n",
    "    pred_distilbert = y_pred_distilbert[i]\n",
    "\n",
    "    # Success cases: both models predict correctly\n",
    "    if pred_log == true_label and pred_distilbert == true_label:\n",
    "        success_cases.append((text, true_label, pred_log, pred_distilbert))\n",
    "    \n",
    "    # Failure cases: either model predicts incorrectl\n",
    "    if pred_log != true_label or pred_distilbert != true_label:\n",
    "        failure_cases.append((text, true_label, pred_log, pred_distilbert))\n",
    "\n",
    "# Print case statistics\n",
    "print(f\"Number of success cases: {len(success_cases)}\")\n",
    "print(f\"Number of failure cases: {len(failure_cases)}\")\n",
    "\n",
    "# Create dataframes for success and failure cases\n",
    "success_df = pd.DataFrame(success_cases, columns=['Text', 'True Label', 'Logistic Prediction', 'DistilBERT Prediction'])\n",
    "failure_df = pd.DataFrame(failure_cases, columns=['Text', 'True Label', 'Logistic Prediction', 'DistilBERT Prediction'])\n",
    "\n",
    "# Save success and failure cases as CSV files\n",
    "success_df.to_csv(\"/Users/zhengfeibian/Desktop/5630final/MyOwnChooseDataSets/Datasets_SYSEN5630FinalProject_Zhengfei/success_cases.csv\", index=False, encoding='utf-8')\n",
    "failure_df.to_csv(\"/Users/zhengfeibian/Desktop/5630final/MyOwnChooseDataSets/Datasets_SYSEN5630FinalProject_Zhengfei/failure_cases.csv\", index=False, encoding='utf-8')\n",
    "\n",
    "print(\"\\nSuccess and failure cases have been saved to:\")\n",
    "print(\"1. success_cases.csv\")\n",
    "print(\"2. failure_cases.csv\")\n"
   ]
  },
  {
   "cell_type": "code",
   "execution_count": 24,
   "metadata": {},
   "outputs": [
    {
     "name": "stdout",
     "output_type": "stream",
     "text": [
      "Sample from success cases:\n",
      "                                                Text  True Label  \\\n",
      "0  The neuropathologies of Alzheimer's disease (A...           0   \n",
      "1  Bipolar disorder (BD) is a prevalent mood diso...           1   \n",
      "2  \"The eyes are a window to the brain,\" promptin...           1   \n",
      "3  Longitudinal investigation of the Apolipoprote...           1   \n",
      "4  Geriatric patients have difficulty to comply t...           0   \n",
      "\n",
      "   Logistic Prediction  DistilBERT Prediction  \n",
      "0                    0                      0  \n",
      "1                    1                      1  \n",
      "2                    1                      1  \n",
      "3                    1                      1  \n",
      "4                    0                      0   \n",
      "\n",
      "Sample from failure cases:\n",
      "                                                Text  True Label  \\\n",
      "0  Aging is a major risk factor for neurodegenera...           1   \n",
      "1  Alzheimer's disease (AD) clinical trials with ...           0   \n",
      "2  A notion of the continuous production of amylo...           0   \n",
      "3  The complex set of interactions between the im...           0   \n",
      "4  Individuals with dementia are particularly vul...           0   \n",
      "\n",
      "   Logistic Prediction  DistilBERT Prediction  \n",
      "0                    0                      1  \n",
      "1                    0                      1  \n",
      "2                    0                      1  \n",
      "3                    0                      1  \n",
      "4                    0                      1   \n",
      "\n"
     ]
    }
   ],
   "source": [
    "import pandas as pd\n",
    "\n",
    "# Load success and failure case data\n",
    "success_df = pd.read_csv(\"/Users/zhengfeibian/Desktop/5630final/MyOwnChooseDataSets/Datasets_SYSEN5630FinalProject_Zhengfei/success_cases.csv\")\n",
    "failure_df = pd.read_csv(\"/Users/zhengfeibian/Desktop/5630final/MyOwnChooseDataSets/Datasets_SYSEN5630FinalProject_Zhengfei/failure_cases.csv\")\n",
    "\n",
    "# Print data format examples\n",
    "print(\"Sample from success cases:\")\n",
    "print(success_df.head(), \"\\n\")\n",
    "\n",
    "print(\"Sample from failure cases:\")\n",
    "print(failure_df.head(), \"\\n\")\n"
   ]
  },
  {
   "cell_type": "code",
   "execution_count": 25,
   "metadata": {},
   "outputs": [
    {
     "name": "stdout",
     "output_type": "stream",
     "text": [
      "Most common words in successful cases:\n",
      "and: 2953\n",
      "the: 2116\n",
      "of: 1965\n",
      "in: 1379\n",
      "to: 1188\n",
      "with: 1002\n",
      "for: 796\n",
      "a: 787\n",
      "cognitive: 544\n",
      "were: 534\n",
      "The: 357\n",
      "on: 349\n",
      "was: 348\n",
      "=: 331\n",
      "that: 329\n",
      "is: 315\n",
      "AD: 300\n",
      "from: 296\n",
      "as: 289\n",
      "Alzheimer's: 287\n",
      "\n",
      "Proportion of success cases where both models predict correctly: 100.00%\n"
     ]
    }
   ],
   "source": [
    "from collections import Counter\n",
    "\n",
    "# Extract all success case texts\n",
    "success_texts = success_df[\"Text\"].tolist()\n",
    "\n",
    "# Word frequency statistics in successful cases\n",
    "word_counts = Counter(\" \".join(success_texts).split())\n",
    "top_words = word_counts.most_common(20)\n",
    "\n",
    "print(\"Most common words in successful cases:\")\n",
    "for word, freq in top_words:\n",
    "    print(f\"{word}: {freq}\")\n",
    "\n",
    "# Proportion of cases where both models predict correctly\n",
    "both_correct = len(success_df[(success_df['Logistic Prediction'] == success_df['True Label']) & \n",
    "                              (success_df['DistilBERT Prediction'] == success_df['True Label'])])\n",
    "print(f\"\\nProportion of success cases where both models predict correctly: {both_correct / len(success_df) * 100:.2f}%\")\n"
   ]
  },
  {
   "cell_type": "code",
   "execution_count": 26,
   "metadata": {},
   "outputs": [
    {
     "name": "stdout",
     "output_type": "stream",
     "text": [
      "\n",
      "Most common words in failure cases:\n",
      "and: 11380\n",
      "the: 9996\n",
      "of: 8892\n",
      "in: 6555\n",
      "to: 4646\n",
      "a: 3286\n",
      "with: 3234\n",
      "for: 2607\n",
      "is: 1781\n",
      "as: 1699\n",
      "AD: 1632\n",
      "were: 1631\n",
      "that: 1610\n",
      "The: 1406\n",
      "disease: 1384\n",
      "by: 1339\n",
      "Alzheimer's: 1314\n",
      "was: 1309\n",
      "on: 1159\n",
      "cognitive: 967\n",
      "\n",
      "Proportion of failure cases with conflicting predictions between both models: 97.37%\n"
     ]
    }
   ],
   "source": [
    "# Extract text features from failure cases\n",
    "failure_texts = failure_df[\"Text\"].tolist()\n",
    "\n",
    "# Word frequency statistics in failure cases\n",
    "word_counts_fail = Counter(\" \".join(failure_texts).split())\n",
    "top_words_fail = word_counts_fail.most_common(20)\n",
    "\n",
    "print(\"\\nMost common words in failure cases:\")\n",
    "for word, freq in top_words_fail:\n",
    "    print(f\"{word}: {freq}\")\n",
    "\n",
    "# Proportion of conflict cases where both models predict differently\n",
    "conflict_cases = len(failure_df[(failure_df['Logistic Prediction'] != failure_df['DistilBERT Prediction'])])\n",
    "print(f\"\\nProportion of failure cases with conflicting predictions between both models: {conflict_cases / len(failure_df) * 100:.2f}%\")\n"
   ]
  },
  {
   "cell_type": "code",
   "execution_count": 27,
   "metadata": {},
   "outputs": [
    {
     "name": "stdout",
     "output_type": "stream",
     "text": [
      "\n",
      "Number of Logistic regression prediction errors: 182\n",
      "Number of DistilBERT prediction errors: 1028\n",
      "\n",
      "Model conflict ratio: 97.37%\n"
     ]
    }
   ],
   "source": [
    "# Compare error types between the two models\n",
    "logistic_errors = len(failure_df[failure_df['Logistic Prediction'] != failure_df['True Label']])\n",
    "distilbert_errors = len(failure_df[failure_df['DistilBERT Prediction'] != failure_df['True Label']])\n",
    "\n",
    "print(f\"\\nNumber of Logistic regression prediction errors: {logistic_errors}\")\n",
    "print(f\"Number of DistilBERT prediction errors: {distilbert_errors}\")\n",
    "\n",
    "# Calculate the proportion of conflict cases between the models\n",
    "conflict_ratio = conflict_cases / len(failure_df)\n",
    "print(f\"\\nModel conflict ratio: {conflict_ratio * 100:.2f}%\")\n"
   ]
  }
 ],
 "metadata": {
  "kernelspec": {
   "display_name": "happy",
   "language": "python",
   "name": "python3"
  },
  "language_info": {
   "codemirror_mode": {
    "name": "ipython",
    "version": 3
   },
   "file_extension": ".py",
   "mimetype": "text/x-python",
   "name": "python",
   "nbconvert_exporter": "python",
   "pygments_lexer": "ipython3",
   "version": "3.11.4"
  },
  "orig_nbformat": 4
 },
 "nbformat": 4,
 "nbformat_minor": 2
}
